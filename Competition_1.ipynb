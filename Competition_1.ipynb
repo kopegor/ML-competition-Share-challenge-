{
  "nbformat": 4,
  "nbformat_minor": 0,
  "metadata": {
    "colab": {
      "name": "Untitled8.ipynb",
      "provenance": [],
      "collapsed_sections": []
    },
    "kernelspec": {
      "display_name": "Python 3",
      "name": "python3"
    },
    "language_info": {
      "name": "python"
    }
  },
  "cells": [
    {
      "cell_type": "code",
      "metadata": {
        "id": "ZQ76gjrBoe_F"
      },
      "source": [
        "import numpy as np\n",
        "import pandas as pd\n",
        "import matplotlib.pyplot as plt\n",
        "from sklearn.pipeline import make_pipeline\n",
        "from sklearn.model_selection import train_test_split\n",
        "from sklearn.neighbors import KNeighborsClassifier\n",
        "from sklearn.preprocessing import StandardScaler\n",
        "from sklearn.metrics import accuracy_score\n",
        "from sklearn.metrics import accuracy_score\n",
        "from sklearn.model_selection import GridSearchCV"
      ],
      "execution_count": 3,
      "outputs": []
    },
    {
      "cell_type": "code",
      "metadata": {
        "id": "G_bkIk95syJ7"
      },
      "source": [
        "df = pd.read_csv('train.csv')\n",
        "test = pd.read_csv('test.csv')"
      ],
      "execution_count": 4,
      "outputs": []
    },
    {
      "cell_type": "code",
      "metadata": {
        "id": "aOf_rOTMwNMG"
      },
      "source": [
        "print(df.shape, test.shape)\n",
        "df.head()"
      ],
      "execution_count": null,
      "outputs": []
    },
    {
      "cell_type": "code",
      "metadata": {
        "id": "WY4BxFuvwbuy"
      },
      "source": [
        "#Разделение данных\n",
        "X = df.iloc[:,:-1]\n",
        "y = df['label']\n",
        "print(X.shape, y.shape)\n",
        "X.head()"
      ],
      "execution_count": null,
      "outputs": []
    },
    {
      "cell_type": "code",
      "metadata": {
        "id": "hLqnvPTsVrBY",
        "colab": {
          "base_uri": "https://localhost:8080/",
          "height": 54
        },
        "outputId": "5265dca6-dd95-45a0-896e-6d626222f8ee"
      },
      "source": [
        "#Заполнение пропущенных значений\n",
        "\"\"\"\n",
        "X.fillna(inplace=True, method='bfill')\n",
        "X.fillna(inplace=True, method='ffill')\n",
        "test.fillna(inplace=True, method='bfill')\n",
        "test.fillna(inplace=True, method='ffill')\n",
        "X = X.iloc[:30000, :-1]\n",
        "print(X.shape)\n",
        "X.head()\n",
        "\"\"\""
      ],
      "execution_count": 15,
      "outputs": [
        {
          "output_type": "execute_result",
          "data": {
            "application/vnd.google.colaboratory.intrinsic+json": {
              "type": "string"
            },
            "text/plain": [
              "\"\\nX.fillna(inplace=True, method='bfill')\\nX.fillna(inplace=True, method='ffill')\\ntest.fillna(inplace=True, method='bfill')\\ntest.fillna(inplace=True, method='ffill')\\nX = X.iloc[:30000, :-1]\\nprint(X.shape)\\nX.head()\\n\""
            ]
          },
          "metadata": {},
          "execution_count": 15
        }
      ]
    },
    {
      "cell_type": "code",
      "metadata": {
        "id": "XbI5fAM2VqtU",
        "colab": {
          "base_uri": "https://localhost:8080/"
        },
        "outputId": "dd1a2620-a7d4-4c68-b232-389996f6f814"
      },
      "source": [
        "#Посмотрим сколько всего пропущенных значений\n",
        "print(X.dropna().shape, test.dropna().shape)\n",
        "#из 50000 строк, только 1765 не имеют пропусков на тренировочных даных\n",
        "# и 385 из 10000 на тестовых данных\n",
        "# значит пропуски нужно \"хорошо\" заполнить"
      ],
      "execution_count": 7,
      "outputs": [
        {
          "output_type": "stream",
          "name": "stdout",
          "text": [
            "(1765, 111) (385, 111)\n"
          ]
        }
      ]
    },
    {
      "cell_type": "code",
      "metadata": {
        "id": "VG5VtRzzyhsM"
      },
      "source": [
        "#Заполнение пропусков средним значением по столбцу\n",
        "\"\"\"\n",
        "from sklearn.impute import SimpleImputer\n",
        "imp = SimpleImputer(missing_values=np.nan, strategy='mean')\n",
        "X = pd.DataFrame(imp.fit_transform(X))\n",
        "test = pd.DataFrame(imp.fit_transform(test))\n",
        "\"\"\""
      ],
      "execution_count": 16,
      "outputs": []
    },
    {
      "cell_type": "code",
      "metadata": {
        "id": "68s3t-pDabI0"
      },
      "source": [
        "\n",
        "from sklearn.impute import KNNImputer\n",
        "imp = KNNImputer(n_neighbors=3)\n",
        "X = pd.DataFrame(imp.fit_transform(X), columns=X.columns)\n"
      ],
      "execution_count": 8,
      "outputs": []
    },
    {
      "cell_type": "code",
      "metadata": {
        "id": "0pmHhKSrxrpx"
      },
      "source": [
        "imp = KNNImputer(n_neighbors=4)\n",
        "test = pd.read_csv('test.csv')\n",
        "test = pd.DataFrame(imp.fit_transform(test), columns=test.columns)"
      ],
      "execution_count": 10,
      "outputs": []
    },
    {
      "cell_type": "code",
      "metadata": {
        "colab": {
          "base_uri": "https://localhost:8080/",
          "height": 255
        },
        "id": "SY-s8AKbdtab",
        "outputId": "df77b00e-cbf6-48ee-d322-ea7c3bb798ad"
      },
      "source": [
        "X.head()"
      ],
      "execution_count": 11,
      "outputs": [
        {
          "output_type": "execute_result",
          "data": {
            "text/html": [
              "<div>\n",
              "<style scoped>\n",
              "    .dataframe tbody tr th:only-of-type {\n",
              "        vertical-align: middle;\n",
              "    }\n",
              "\n",
              "    .dataframe tbody tr th {\n",
              "        vertical-align: top;\n",
              "    }\n",
              "\n",
              "    .dataframe thead th {\n",
              "        text-align: right;\n",
              "    }\n",
              "</style>\n",
              "<table border=\"1\" class=\"dataframe\">\n",
              "  <thead>\n",
              "    <tr style=\"text-align: right;\">\n",
              "      <th></th>\n",
              "      <th>id</th>\n",
              "      <th>0</th>\n",
              "      <th>1</th>\n",
              "      <th>2</th>\n",
              "      <th>3</th>\n",
              "      <th>4</th>\n",
              "      <th>5</th>\n",
              "      <th>6</th>\n",
              "      <th>7</th>\n",
              "      <th>8</th>\n",
              "      <th>9</th>\n",
              "      <th>10</th>\n",
              "      <th>11</th>\n",
              "      <th>12</th>\n",
              "      <th>13</th>\n",
              "      <th>14</th>\n",
              "      <th>15</th>\n",
              "      <th>16</th>\n",
              "      <th>17</th>\n",
              "      <th>18</th>\n",
              "      <th>19</th>\n",
              "      <th>20</th>\n",
              "      <th>21</th>\n",
              "      <th>22</th>\n",
              "      <th>23</th>\n",
              "      <th>24</th>\n",
              "      <th>25</th>\n",
              "      <th>26</th>\n",
              "      <th>27</th>\n",
              "      <th>28</th>\n",
              "      <th>29</th>\n",
              "      <th>30</th>\n",
              "      <th>31</th>\n",
              "      <th>32</th>\n",
              "      <th>33</th>\n",
              "      <th>34</th>\n",
              "      <th>35</th>\n",
              "      <th>36</th>\n",
              "      <th>37</th>\n",
              "      <th>38</th>\n",
              "      <th>...</th>\n",
              "      <th>70</th>\n",
              "      <th>71</th>\n",
              "      <th>72</th>\n",
              "      <th>73</th>\n",
              "      <th>74</th>\n",
              "      <th>75</th>\n",
              "      <th>76</th>\n",
              "      <th>77</th>\n",
              "      <th>78</th>\n",
              "      <th>79</th>\n",
              "      <th>80</th>\n",
              "      <th>81</th>\n",
              "      <th>82</th>\n",
              "      <th>83</th>\n",
              "      <th>84</th>\n",
              "      <th>85</th>\n",
              "      <th>86</th>\n",
              "      <th>87</th>\n",
              "      <th>88</th>\n",
              "      <th>89</th>\n",
              "      <th>90</th>\n",
              "      <th>91</th>\n",
              "      <th>92</th>\n",
              "      <th>93</th>\n",
              "      <th>94</th>\n",
              "      <th>95</th>\n",
              "      <th>96</th>\n",
              "      <th>97</th>\n",
              "      <th>98</th>\n",
              "      <th>99</th>\n",
              "      <th>100</th>\n",
              "      <th>101</th>\n",
              "      <th>102</th>\n",
              "      <th>103</th>\n",
              "      <th>104</th>\n",
              "      <th>105</th>\n",
              "      <th>106</th>\n",
              "      <th>107</th>\n",
              "      <th>108</th>\n",
              "      <th>109</th>\n",
              "    </tr>\n",
              "  </thead>\n",
              "  <tbody>\n",
              "    <tr>\n",
              "      <th>0</th>\n",
              "      <td>0.0</td>\n",
              "      <td>-4.187822</td>\n",
              "      <td>-13.978846</td>\n",
              "      <td>-246.346827</td>\n",
              "      <td>143.771285</td>\n",
              "      <td>-33.226293</td>\n",
              "      <td>-36.133359</td>\n",
              "      <td>229.360804</td>\n",
              "      <td>42.729180</td>\n",
              "      <td>68.088766</td>\n",
              "      <td>-14.354222</td>\n",
              "      <td>379.534926</td>\n",
              "      <td>41.192372</td>\n",
              "      <td>-89.712466</td>\n",
              "      <td>91.039404</td>\n",
              "      <td>-46.293044</td>\n",
              "      <td>-248.259157</td>\n",
              "      <td>43.758404</td>\n",
              "      <td>-40.154632</td>\n",
              "      <td>-6.528808</td>\n",
              "      <td>-176.749531</td>\n",
              "      <td>61.872700</td>\n",
              "      <td>-89.548161</td>\n",
              "      <td>32.414852</td>\n",
              "      <td>-140.231821</td>\n",
              "      <td>101.054761</td>\n",
              "      <td>-66.800188</td>\n",
              "      <td>-5.896080</td>\n",
              "      <td>-18.332500</td>\n",
              "      <td>148.830528</td>\n",
              "      <td>-112.414965</td>\n",
              "      <td>54.722385</td>\n",
              "      <td>-66.320061</td>\n",
              "      <td>157.461496</td>\n",
              "      <td>-442.091978</td>\n",
              "      <td>43.226450</td>\n",
              "      <td>-34.060278</td>\n",
              "      <td>81.556107</td>\n",
              "      <td>-229.441763</td>\n",
              "      <td>234.651911</td>\n",
              "      <td>...</td>\n",
              "      <td>119.194252</td>\n",
              "      <td>29.578525</td>\n",
              "      <td>111.124966</td>\n",
              "      <td>-20.997311</td>\n",
              "      <td>40.464690</td>\n",
              "      <td>154.287036</td>\n",
              "      <td>-46.451660</td>\n",
              "      <td>-187.429135</td>\n",
              "      <td>-203.773473</td>\n",
              "      <td>225.603142</td>\n",
              "      <td>830.141659</td>\n",
              "      <td>-151.482681</td>\n",
              "      <td>7.218052</td>\n",
              "      <td>-423.338600</td>\n",
              "      <td>284.856709</td>\n",
              "      <td>-156.060589</td>\n",
              "      <td>-200.959998</td>\n",
              "      <td>92.764412</td>\n",
              "      <td>-12.277416</td>\n",
              "      <td>-162.871510</td>\n",
              "      <td>-50.166315</td>\n",
              "      <td>20.668672</td>\n",
              "      <td>44.864675</td>\n",
              "      <td>9.417400</td>\n",
              "      <td>-107.146909</td>\n",
              "      <td>296.538059</td>\n",
              "      <td>13.184251</td>\n",
              "      <td>111.088204</td>\n",
              "      <td>59.297607</td>\n",
              "      <td>-34.578166</td>\n",
              "      <td>327.181819</td>\n",
              "      <td>-61.486539</td>\n",
              "      <td>-62.615526</td>\n",
              "      <td>-67.840895</td>\n",
              "      <td>23.592680</td>\n",
              "      <td>124.809538</td>\n",
              "      <td>-23.077201</td>\n",
              "      <td>3.190311</td>\n",
              "      <td>158.660385</td>\n",
              "      <td>-83.848561</td>\n",
              "    </tr>\n",
              "    <tr>\n",
              "      <th>1</th>\n",
              "      <td>1.0</td>\n",
              "      <td>24.094857</td>\n",
              "      <td>-11.570042</td>\n",
              "      <td>26.793252</td>\n",
              "      <td>155.851579</td>\n",
              "      <td>89.448145</td>\n",
              "      <td>-39.356123</td>\n",
              "      <td>199.666258</td>\n",
              "      <td>95.310857</td>\n",
              "      <td>-13.326055</td>\n",
              "      <td>57.311463</td>\n",
              "      <td>710.408902</td>\n",
              "      <td>-71.270268</td>\n",
              "      <td>-51.935622</td>\n",
              "      <td>-87.875089</td>\n",
              "      <td>-57.889892</td>\n",
              "      <td>-27.943592</td>\n",
              "      <td>32.674989</td>\n",
              "      <td>22.318301</td>\n",
              "      <td>38.162048</td>\n",
              "      <td>53.924961</td>\n",
              "      <td>50.527587</td>\n",
              "      <td>-22.346857</td>\n",
              "      <td>11.142822</td>\n",
              "      <td>-98.734174</td>\n",
              "      <td>-204.123448</td>\n",
              "      <td>-105.133361</td>\n",
              "      <td>14.948635</td>\n",
              "      <td>28.605727</td>\n",
              "      <td>-20.275940</td>\n",
              "      <td>133.685980</td>\n",
              "      <td>93.595908</td>\n",
              "      <td>-14.341743</td>\n",
              "      <td>68.505643</td>\n",
              "      <td>-224.793209</td>\n",
              "      <td>-115.796889</td>\n",
              "      <td>13.006750</td>\n",
              "      <td>-207.516197</td>\n",
              "      <td>-413.299448</td>\n",
              "      <td>-26.236572</td>\n",
              "      <td>...</td>\n",
              "      <td>14.109474</td>\n",
              "      <td>-211.767700</td>\n",
              "      <td>-4.175856</td>\n",
              "      <td>61.330626</td>\n",
              "      <td>52.364868</td>\n",
              "      <td>275.311225</td>\n",
              "      <td>-5.432291</td>\n",
              "      <td>217.468878</td>\n",
              "      <td>-169.595055</td>\n",
              "      <td>-231.270777</td>\n",
              "      <td>944.409928</td>\n",
              "      <td>157.416734</td>\n",
              "      <td>-96.812772</td>\n",
              "      <td>267.488076</td>\n",
              "      <td>36.896252</td>\n",
              "      <td>-768.684009</td>\n",
              "      <td>264.122707</td>\n",
              "      <td>147.567211</td>\n",
              "      <td>-7.446930</td>\n",
              "      <td>52.083295</td>\n",
              "      <td>89.182962</td>\n",
              "      <td>-12.503631</td>\n",
              "      <td>30.669192</td>\n",
              "      <td>24.108511</td>\n",
              "      <td>95.518840</td>\n",
              "      <td>345.525334</td>\n",
              "      <td>-85.564605</td>\n",
              "      <td>93.451491</td>\n",
              "      <td>116.435131</td>\n",
              "      <td>31.777602</td>\n",
              "      <td>-73.688765</td>\n",
              "      <td>44.274265</td>\n",
              "      <td>30.681210</td>\n",
              "      <td>34.671579</td>\n",
              "      <td>66.111775</td>\n",
              "      <td>-63.125159</td>\n",
              "      <td>-43.477966</td>\n",
              "      <td>-2.787521</td>\n",
              "      <td>40.601941</td>\n",
              "      <td>-36.462574</td>\n",
              "    </tr>\n",
              "    <tr>\n",
              "      <th>2</th>\n",
              "      <td>2.0</td>\n",
              "      <td>129.626766</td>\n",
              "      <td>153.361044</td>\n",
              "      <td>-228.575252</td>\n",
              "      <td>-43.798189</td>\n",
              "      <td>48.125665</td>\n",
              "      <td>18.222124</td>\n",
              "      <td>-27.085524</td>\n",
              "      <td>12.712634</td>\n",
              "      <td>-14.005595</td>\n",
              "      <td>-19.269208</td>\n",
              "      <td>-114.244016</td>\n",
              "      <td>1.652489</td>\n",
              "      <td>-26.574174</td>\n",
              "      <td>-19.644541</td>\n",
              "      <td>26.151168</td>\n",
              "      <td>-73.804245</td>\n",
              "      <td>-22.481410</td>\n",
              "      <td>49.403011</td>\n",
              "      <td>115.668719</td>\n",
              "      <td>118.056089</td>\n",
              "      <td>126.248107</td>\n",
              "      <td>4.977037</td>\n",
              "      <td>-179.432432</td>\n",
              "      <td>17.780447</td>\n",
              "      <td>58.590776</td>\n",
              "      <td>102.871607</td>\n",
              "      <td>-68.585878</td>\n",
              "      <td>2.059828</td>\n",
              "      <td>-33.362586</td>\n",
              "      <td>-83.351330</td>\n",
              "      <td>127.144773</td>\n",
              "      <td>-258.129755</td>\n",
              "      <td>3.634848</td>\n",
              "      <td>-246.895556</td>\n",
              "      <td>-61.089183</td>\n",
              "      <td>-89.312486</td>\n",
              "      <td>-202.054050</td>\n",
              "      <td>274.887163</td>\n",
              "      <td>313.249016</td>\n",
              "      <td>...</td>\n",
              "      <td>11.218658</td>\n",
              "      <td>88.676689</td>\n",
              "      <td>-59.242014</td>\n",
              "      <td>20.471298</td>\n",
              "      <td>203.430250</td>\n",
              "      <td>-69.375463</td>\n",
              "      <td>95.551928</td>\n",
              "      <td>-164.583470</td>\n",
              "      <td>88.233365</td>\n",
              "      <td>-97.948005</td>\n",
              "      <td>-357.276678</td>\n",
              "      <td>-98.473885</td>\n",
              "      <td>-36.450772</td>\n",
              "      <td>-335.162340</td>\n",
              "      <td>-103.091830</td>\n",
              "      <td>-17.627212</td>\n",
              "      <td>344.520491</td>\n",
              "      <td>178.908868</td>\n",
              "      <td>62.179846</td>\n",
              "      <td>35.749772</td>\n",
              "      <td>-439.963736</td>\n",
              "      <td>-44.436014</td>\n",
              "      <td>-72.547520</td>\n",
              "      <td>166.352119</td>\n",
              "      <td>-504.351106</td>\n",
              "      <td>-208.905726</td>\n",
              "      <td>25.534120</td>\n",
              "      <td>116.166520</td>\n",
              "      <td>15.221104</td>\n",
              "      <td>-17.858483</td>\n",
              "      <td>-267.858138</td>\n",
              "      <td>14.487393</td>\n",
              "      <td>-18.822421</td>\n",
              "      <td>-72.809791</td>\n",
              "      <td>-98.768014</td>\n",
              "      <td>7.588928</td>\n",
              "      <td>34.714429</td>\n",
              "      <td>76.767352</td>\n",
              "      <td>-271.184273</td>\n",
              "      <td>63.889350</td>\n",
              "    </tr>\n",
              "    <tr>\n",
              "      <th>3</th>\n",
              "      <td>3.0</td>\n",
              "      <td>209.960232</td>\n",
              "      <td>3.723635</td>\n",
              "      <td>134.575274</td>\n",
              "      <td>45.502300</td>\n",
              "      <td>43.350338</td>\n",
              "      <td>475.118110</td>\n",
              "      <td>83.041198</td>\n",
              "      <td>-48.269179</td>\n",
              "      <td>12.554096</td>\n",
              "      <td>-54.057972</td>\n",
              "      <td>226.277106</td>\n",
              "      <td>-105.737869</td>\n",
              "      <td>-43.190544</td>\n",
              "      <td>93.049134</td>\n",
              "      <td>-70.907425</td>\n",
              "      <td>300.711854</td>\n",
              "      <td>13.152212</td>\n",
              "      <td>15.767445</td>\n",
              "      <td>-108.766805</td>\n",
              "      <td>-94.224412</td>\n",
              "      <td>-57.808470</td>\n",
              "      <td>60.931524</td>\n",
              "      <td>3.001858</td>\n",
              "      <td>34.700231</td>\n",
              "      <td>-121.823804</td>\n",
              "      <td>-39.880779</td>\n",
              "      <td>-66.074959</td>\n",
              "      <td>-9.245082</td>\n",
              "      <td>104.624152</td>\n",
              "      <td>-26.232481</td>\n",
              "      <td>-0.323705</td>\n",
              "      <td>63.358228</td>\n",
              "      <td>86.358240</td>\n",
              "      <td>-347.802854</td>\n",
              "      <td>122.990133</td>\n",
              "      <td>11.757166</td>\n",
              "      <td>-293.271584</td>\n",
              "      <td>-381.498203</td>\n",
              "      <td>-135.995051</td>\n",
              "      <td>...</td>\n",
              "      <td>32.403897</td>\n",
              "      <td>4.340228</td>\n",
              "      <td>-76.581513</td>\n",
              "      <td>-24.607148</td>\n",
              "      <td>99.388882</td>\n",
              "      <td>196.996405</td>\n",
              "      <td>8.510864</td>\n",
              "      <td>287.943018</td>\n",
              "      <td>51.048414</td>\n",
              "      <td>57.138122</td>\n",
              "      <td>-231.338109</td>\n",
              "      <td>-2.805622</td>\n",
              "      <td>-70.245665</td>\n",
              "      <td>2.111366</td>\n",
              "      <td>298.878915</td>\n",
              "      <td>425.049436</td>\n",
              "      <td>-274.340751</td>\n",
              "      <td>240.108552</td>\n",
              "      <td>-54.205118</td>\n",
              "      <td>-199.147496</td>\n",
              "      <td>1289.689551</td>\n",
              "      <td>25.093060</td>\n",
              "      <td>-10.294342</td>\n",
              "      <td>29.187337</td>\n",
              "      <td>406.848129</td>\n",
              "      <td>-259.466481</td>\n",
              "      <td>-15.001917</td>\n",
              "      <td>193.692069</td>\n",
              "      <td>68.706060</td>\n",
              "      <td>-31.661918</td>\n",
              "      <td>511.081948</td>\n",
              "      <td>4.706411</td>\n",
              "      <td>1.643793</td>\n",
              "      <td>-15.398200</td>\n",
              "      <td>-14.028664</td>\n",
              "      <td>65.495963</td>\n",
              "      <td>-15.017345</td>\n",
              "      <td>41.329913</td>\n",
              "      <td>-1214.900271</td>\n",
              "      <td>-25.435079</td>\n",
              "    </tr>\n",
              "    <tr>\n",
              "      <th>4</th>\n",
              "      <td>4.0</td>\n",
              "      <td>-179.133415</td>\n",
              "      <td>11.689463</td>\n",
              "      <td>-110.506442</td>\n",
              "      <td>138.039678</td>\n",
              "      <td>-132.239381</td>\n",
              "      <td>78.865273</td>\n",
              "      <td>288.485620</td>\n",
              "      <td>-9.575814</td>\n",
              "      <td>-67.062730</td>\n",
              "      <td>-113.020083</td>\n",
              "      <td>26.158283</td>\n",
              "      <td>-109.942460</td>\n",
              "      <td>33.816672</td>\n",
              "      <td>33.799100</td>\n",
              "      <td>93.676668</td>\n",
              "      <td>88.693241</td>\n",
              "      <td>59.256611</td>\n",
              "      <td>61.902004</td>\n",
              "      <td>-131.111820</td>\n",
              "      <td>158.971805</td>\n",
              "      <td>5.079087</td>\n",
              "      <td>47.160977</td>\n",
              "      <td>10.568292</td>\n",
              "      <td>49.772049</td>\n",
              "      <td>-186.428904</td>\n",
              "      <td>-77.385165</td>\n",
              "      <td>165.640000</td>\n",
              "      <td>-123.137159</td>\n",
              "      <td>-9.233544</td>\n",
              "      <td>-95.346871</td>\n",
              "      <td>137.654074</td>\n",
              "      <td>173.423062</td>\n",
              "      <td>-106.908461</td>\n",
              "      <td>594.271973</td>\n",
              "      <td>-119.437275</td>\n",
              "      <td>-53.049546</td>\n",
              "      <td>97.533402</td>\n",
              "      <td>30.087834</td>\n",
              "      <td>-116.449461</td>\n",
              "      <td>...</td>\n",
              "      <td>-119.176101</td>\n",
              "      <td>-100.799323</td>\n",
              "      <td>-30.063881</td>\n",
              "      <td>-74.214682</td>\n",
              "      <td>-189.757184</td>\n",
              "      <td>182.012487</td>\n",
              "      <td>158.430850</td>\n",
              "      <td>170.824878</td>\n",
              "      <td>224.243787</td>\n",
              "      <td>7.502707</td>\n",
              "      <td>-500.289888</td>\n",
              "      <td>-101.291121</td>\n",
              "      <td>39.249730</td>\n",
              "      <td>-175.446943</td>\n",
              "      <td>-39.744599</td>\n",
              "      <td>73.723641</td>\n",
              "      <td>-23.204912</td>\n",
              "      <td>-28.966893</td>\n",
              "      <td>4.419857</td>\n",
              "      <td>-53.421972</td>\n",
              "      <td>-634.386456</td>\n",
              "      <td>41.386864</td>\n",
              "      <td>162.573852</td>\n",
              "      <td>-161.768117</td>\n",
              "      <td>-47.304072</td>\n",
              "      <td>-288.176788</td>\n",
              "      <td>35.315105</td>\n",
              "      <td>117.761525</td>\n",
              "      <td>-112.677494</td>\n",
              "      <td>48.209046</td>\n",
              "      <td>-392.077213</td>\n",
              "      <td>-33.992316</td>\n",
              "      <td>137.368611</td>\n",
              "      <td>-33.962428</td>\n",
              "      <td>3.272204</td>\n",
              "      <td>93.822307</td>\n",
              "      <td>-168.784463</td>\n",
              "      <td>-16.651422</td>\n",
              "      <td>-80.756317</td>\n",
              "      <td>-51.105732</td>\n",
              "    </tr>\n",
              "  </tbody>\n",
              "</table>\n",
              "<p>5 rows × 111 columns</p>\n",
              "</div>"
            ],
            "text/plain": [
              "    id           0           1  ...        107          108        109\n",
              "0  0.0   -4.187822  -13.978846  ...   3.190311   158.660385 -83.848561\n",
              "1  1.0   24.094857  -11.570042  ...  -2.787521    40.601941 -36.462574\n",
              "2  2.0  129.626766  153.361044  ...  76.767352  -271.184273  63.889350\n",
              "3  3.0  209.960232    3.723635  ...  41.329913 -1214.900271 -25.435079\n",
              "4  4.0 -179.133415   11.689463  ... -16.651422   -80.756317 -51.105732\n",
              "\n",
              "[5 rows x 111 columns]"
            ]
          },
          "metadata": {},
          "execution_count": 11
        }
      ]
    },
    {
      "cell_type": "code",
      "metadata": {
        "colab": {
          "base_uri": "https://localhost:8080/",
          "height": 255
        },
        "id": "URXD2IzVdvxa",
        "outputId": "75093f18-4e6a-4c1c-9a99-b87acd020d2b"
      },
      "source": [
        "test.head()"
      ],
      "execution_count": 12,
      "outputs": [
        {
          "output_type": "execute_result",
          "data": {
            "text/html": [
              "<div>\n",
              "<style scoped>\n",
              "    .dataframe tbody tr th:only-of-type {\n",
              "        vertical-align: middle;\n",
              "    }\n",
              "\n",
              "    .dataframe tbody tr th {\n",
              "        vertical-align: top;\n",
              "    }\n",
              "\n",
              "    .dataframe thead th {\n",
              "        text-align: right;\n",
              "    }\n",
              "</style>\n",
              "<table border=\"1\" class=\"dataframe\">\n",
              "  <thead>\n",
              "    <tr style=\"text-align: right;\">\n",
              "      <th></th>\n",
              "      <th>id</th>\n",
              "      <th>0</th>\n",
              "      <th>1</th>\n",
              "      <th>2</th>\n",
              "      <th>3</th>\n",
              "      <th>4</th>\n",
              "      <th>5</th>\n",
              "      <th>6</th>\n",
              "      <th>7</th>\n",
              "      <th>8</th>\n",
              "      <th>9</th>\n",
              "      <th>10</th>\n",
              "      <th>11</th>\n",
              "      <th>12</th>\n",
              "      <th>13</th>\n",
              "      <th>14</th>\n",
              "      <th>15</th>\n",
              "      <th>16</th>\n",
              "      <th>17</th>\n",
              "      <th>18</th>\n",
              "      <th>19</th>\n",
              "      <th>20</th>\n",
              "      <th>21</th>\n",
              "      <th>22</th>\n",
              "      <th>23</th>\n",
              "      <th>24</th>\n",
              "      <th>25</th>\n",
              "      <th>26</th>\n",
              "      <th>27</th>\n",
              "      <th>28</th>\n",
              "      <th>29</th>\n",
              "      <th>30</th>\n",
              "      <th>31</th>\n",
              "      <th>32</th>\n",
              "      <th>33</th>\n",
              "      <th>34</th>\n",
              "      <th>35</th>\n",
              "      <th>36</th>\n",
              "      <th>37</th>\n",
              "      <th>38</th>\n",
              "      <th>...</th>\n",
              "      <th>70</th>\n",
              "      <th>71</th>\n",
              "      <th>72</th>\n",
              "      <th>73</th>\n",
              "      <th>74</th>\n",
              "      <th>75</th>\n",
              "      <th>76</th>\n",
              "      <th>77</th>\n",
              "      <th>78</th>\n",
              "      <th>79</th>\n",
              "      <th>80</th>\n",
              "      <th>81</th>\n",
              "      <th>82</th>\n",
              "      <th>83</th>\n",
              "      <th>84</th>\n",
              "      <th>85</th>\n",
              "      <th>86</th>\n",
              "      <th>87</th>\n",
              "      <th>88</th>\n",
              "      <th>89</th>\n",
              "      <th>90</th>\n",
              "      <th>91</th>\n",
              "      <th>92</th>\n",
              "      <th>93</th>\n",
              "      <th>94</th>\n",
              "      <th>95</th>\n",
              "      <th>96</th>\n",
              "      <th>97</th>\n",
              "      <th>98</th>\n",
              "      <th>99</th>\n",
              "      <th>100</th>\n",
              "      <th>101</th>\n",
              "      <th>102</th>\n",
              "      <th>103</th>\n",
              "      <th>104</th>\n",
              "      <th>105</th>\n",
              "      <th>106</th>\n",
              "      <th>107</th>\n",
              "      <th>108</th>\n",
              "      <th>109</th>\n",
              "    </tr>\n",
              "  </thead>\n",
              "  <tbody>\n",
              "    <tr>\n",
              "      <th>0</th>\n",
              "      <td>0.0</td>\n",
              "      <td>70.988329</td>\n",
              "      <td>-53.726764</td>\n",
              "      <td>146.463183</td>\n",
              "      <td>-38.562153</td>\n",
              "      <td>-138.351157</td>\n",
              "      <td>-23.985445</td>\n",
              "      <td>-0.942323</td>\n",
              "      <td>41.176792</td>\n",
              "      <td>-68.501977</td>\n",
              "      <td>75.338113</td>\n",
              "      <td>151.280761</td>\n",
              "      <td>32.383098</td>\n",
              "      <td>86.354705</td>\n",
              "      <td>61.989109</td>\n",
              "      <td>-82.176753</td>\n",
              "      <td>347.949901</td>\n",
              "      <td>-20.659918</td>\n",
              "      <td>50.674314</td>\n",
              "      <td>-169.084358</td>\n",
              "      <td>-21.548420</td>\n",
              "      <td>36.701044</td>\n",
              "      <td>17.367683</td>\n",
              "      <td>71.371297</td>\n",
              "      <td>-114.220831</td>\n",
              "      <td>-120.353016</td>\n",
              "      <td>85.436424</td>\n",
              "      <td>-49.591815</td>\n",
              "      <td>-86.537309</td>\n",
              "      <td>23.828184</td>\n",
              "      <td>19.599578</td>\n",
              "      <td>13.152231</td>\n",
              "      <td>58.218131</td>\n",
              "      <td>-87.632130</td>\n",
              "      <td>156.206356</td>\n",
              "      <td>-7.995115</td>\n",
              "      <td>63.581109</td>\n",
              "      <td>-263.759296</td>\n",
              "      <td>-144.568024</td>\n",
              "      <td>-141.148836</td>\n",
              "      <td>...</td>\n",
              "      <td>28.711508</td>\n",
              "      <td>114.677544</td>\n",
              "      <td>-9.770192</td>\n",
              "      <td>151.113108</td>\n",
              "      <td>103.138697</td>\n",
              "      <td>-22.740347</td>\n",
              "      <td>67.343610</td>\n",
              "      <td>-222.158542</td>\n",
              "      <td>-39.852058</td>\n",
              "      <td>78.011262</td>\n",
              "      <td>384.510624</td>\n",
              "      <td>80.684355</td>\n",
              "      <td>-83.942262</td>\n",
              "      <td>70.938343</td>\n",
              "      <td>-168.968610</td>\n",
              "      <td>228.873753</td>\n",
              "      <td>299.943401</td>\n",
              "      <td>-113.016121</td>\n",
              "      <td>-32.710609</td>\n",
              "      <td>101.497428</td>\n",
              "      <td>-454.608652</td>\n",
              "      <td>12.442758</td>\n",
              "      <td>-49.461889</td>\n",
              "      <td>6.954776</td>\n",
              "      <td>-296.071460</td>\n",
              "      <td>-36.862581</td>\n",
              "      <td>-45.572393</td>\n",
              "      <td>-95.728081</td>\n",
              "      <td>-80.500263</td>\n",
              "      <td>-42.628110</td>\n",
              "      <td>-402.401290</td>\n",
              "      <td>-29.088708</td>\n",
              "      <td>-78.807053</td>\n",
              "      <td>-16.862015</td>\n",
              "      <td>161.805167</td>\n",
              "      <td>-50.543858</td>\n",
              "      <td>-1.989353</td>\n",
              "      <td>57.155667</td>\n",
              "      <td>349.346501</td>\n",
              "      <td>-143.966616</td>\n",
              "    </tr>\n",
              "    <tr>\n",
              "      <th>1</th>\n",
              "      <td>1.0</td>\n",
              "      <td>-99.136105</td>\n",
              "      <td>47.856013</td>\n",
              "      <td>-127.313282</td>\n",
              "      <td>51.535123</td>\n",
              "      <td>-14.482731</td>\n",
              "      <td>-88.489583</td>\n",
              "      <td>285.176751</td>\n",
              "      <td>-21.667084</td>\n",
              "      <td>35.069040</td>\n",
              "      <td>57.696073</td>\n",
              "      <td>-575.887613</td>\n",
              "      <td>-64.752402</td>\n",
              "      <td>25.828870</td>\n",
              "      <td>25.342384</td>\n",
              "      <td>54.761143</td>\n",
              "      <td>329.702345</td>\n",
              "      <td>-66.815945</td>\n",
              "      <td>19.848216</td>\n",
              "      <td>-44.856381</td>\n",
              "      <td>18.993308</td>\n",
              "      <td>171.798934</td>\n",
              "      <td>-129.524307</td>\n",
              "      <td>36.079756</td>\n",
              "      <td>60.550417</td>\n",
              "      <td>-50.294207</td>\n",
              "      <td>-204.474701</td>\n",
              "      <td>-88.363062</td>\n",
              "      <td>-43.746252</td>\n",
              "      <td>-29.995398</td>\n",
              "      <td>37.095432</td>\n",
              "      <td>13.427478</td>\n",
              "      <td>2.426965</td>\n",
              "      <td>17.291718</td>\n",
              "      <td>73.363014</td>\n",
              "      <td>98.012791</td>\n",
              "      <td>36.623227</td>\n",
              "      <td>92.698685</td>\n",
              "      <td>447.696768</td>\n",
              "      <td>-20.587798</td>\n",
              "      <td>...</td>\n",
              "      <td>-74.340171</td>\n",
              "      <td>56.258021</td>\n",
              "      <td>15.743743</td>\n",
              "      <td>-24.711577</td>\n",
              "      <td>35.439614</td>\n",
              "      <td>-27.336995</td>\n",
              "      <td>-88.347513</td>\n",
              "      <td>-333.056145</td>\n",
              "      <td>-11.673564</td>\n",
              "      <td>-176.962855</td>\n",
              "      <td>528.588276</td>\n",
              "      <td>-39.224135</td>\n",
              "      <td>27.171820</td>\n",
              "      <td>14.016272</td>\n",
              "      <td>127.607574</td>\n",
              "      <td>373.045611</td>\n",
              "      <td>178.043465</td>\n",
              "      <td>-159.708117</td>\n",
              "      <td>18.012749</td>\n",
              "      <td>173.999048</td>\n",
              "      <td>-403.181514</td>\n",
              "      <td>0.130585</td>\n",
              "      <td>-24.239591</td>\n",
              "      <td>-87.494270</td>\n",
              "      <td>-434.786847</td>\n",
              "      <td>-125.848540</td>\n",
              "      <td>-46.362402</td>\n",
              "      <td>-48.820081</td>\n",
              "      <td>52.422765</td>\n",
              "      <td>-2.519414</td>\n",
              "      <td>168.901890</td>\n",
              "      <td>27.334611</td>\n",
              "      <td>2.490669</td>\n",
              "      <td>-63.710021</td>\n",
              "      <td>138.582246</td>\n",
              "      <td>133.862045</td>\n",
              "      <td>56.301659</td>\n",
              "      <td>29.497996</td>\n",
              "      <td>-226.758252</td>\n",
              "      <td>-77.972184</td>\n",
              "    </tr>\n",
              "    <tr>\n",
              "      <th>2</th>\n",
              "      <td>2.0</td>\n",
              "      <td>-98.412507</td>\n",
              "      <td>95.380702</td>\n",
              "      <td>-103.875782</td>\n",
              "      <td>92.999655</td>\n",
              "      <td>26.714858</td>\n",
              "      <td>-31.292225</td>\n",
              "      <td>-319.328714</td>\n",
              "      <td>-87.469017</td>\n",
              "      <td>245.305830</td>\n",
              "      <td>34.611665</td>\n",
              "      <td>-635.023375</td>\n",
              "      <td>-41.587086</td>\n",
              "      <td>-77.572441</td>\n",
              "      <td>-14.560731</td>\n",
              "      <td>-18.344283</td>\n",
              "      <td>-12.043800</td>\n",
              "      <td>37.210904</td>\n",
              "      <td>-27.640646</td>\n",
              "      <td>49.793802</td>\n",
              "      <td>43.136645</td>\n",
              "      <td>152.279475</td>\n",
              "      <td>174.426519</td>\n",
              "      <td>-10.018109</td>\n",
              "      <td>49.075607</td>\n",
              "      <td>-96.851090</td>\n",
              "      <td>-353.083458</td>\n",
              "      <td>-46.354438</td>\n",
              "      <td>-38.833246</td>\n",
              "      <td>-37.499015</td>\n",
              "      <td>116.698769</td>\n",
              "      <td>-74.417050</td>\n",
              "      <td>184.041106</td>\n",
              "      <td>-99.200991</td>\n",
              "      <td>128.583684</td>\n",
              "      <td>-23.293807</td>\n",
              "      <td>5.881213</td>\n",
              "      <td>78.782842</td>\n",
              "      <td>-47.370704</td>\n",
              "      <td>27.049031</td>\n",
              "      <td>...</td>\n",
              "      <td>-77.320496</td>\n",
              "      <td>135.522983</td>\n",
              "      <td>-120.575668</td>\n",
              "      <td>-183.337851</td>\n",
              "      <td>56.328132</td>\n",
              "      <td>75.108814</td>\n",
              "      <td>-239.939668</td>\n",
              "      <td>199.203671</td>\n",
              "      <td>-244.585591</td>\n",
              "      <td>180.485070</td>\n",
              "      <td>-114.679547</td>\n",
              "      <td>50.813887</td>\n",
              "      <td>-45.639735</td>\n",
              "      <td>-111.009465</td>\n",
              "      <td>-120.271071</td>\n",
              "      <td>612.270275</td>\n",
              "      <td>90.245353</td>\n",
              "      <td>-227.492907</td>\n",
              "      <td>-22.065905</td>\n",
              "      <td>257.332478</td>\n",
              "      <td>-469.522353</td>\n",
              "      <td>-32.288949</td>\n",
              "      <td>-8.607205</td>\n",
              "      <td>140.006987</td>\n",
              "      <td>139.464368</td>\n",
              "      <td>122.808342</td>\n",
              "      <td>27.574988</td>\n",
              "      <td>-20.060605</td>\n",
              "      <td>215.693535</td>\n",
              "      <td>24.521124</td>\n",
              "      <td>-130.382216</td>\n",
              "      <td>80.051382</td>\n",
              "      <td>245.776010</td>\n",
              "      <td>33.084594</td>\n",
              "      <td>18.025982</td>\n",
              "      <td>89.830480</td>\n",
              "      <td>-173.844681</td>\n",
              "      <td>-59.906696</td>\n",
              "      <td>264.088705</td>\n",
              "      <td>-22.603129</td>\n",
              "    </tr>\n",
              "    <tr>\n",
              "      <th>3</th>\n",
              "      <td>3.0</td>\n",
              "      <td>21.493182</td>\n",
              "      <td>170.821211</td>\n",
              "      <td>118.465297</td>\n",
              "      <td>32.208138</td>\n",
              "      <td>40.172187</td>\n",
              "      <td>280.012980</td>\n",
              "      <td>105.452861</td>\n",
              "      <td>-35.254861</td>\n",
              "      <td>283.936144</td>\n",
              "      <td>-30.450130</td>\n",
              "      <td>-417.955713</td>\n",
              "      <td>133.622840</td>\n",
              "      <td>-26.327372</td>\n",
              "      <td>-31.934234</td>\n",
              "      <td>1.862688</td>\n",
              "      <td>-123.628311</td>\n",
              "      <td>-2.093535</td>\n",
              "      <td>37.097581</td>\n",
              "      <td>-93.457829</td>\n",
              "      <td>168.988256</td>\n",
              "      <td>1.629984</td>\n",
              "      <td>-39.572628</td>\n",
              "      <td>-13.221236</td>\n",
              "      <td>-92.315563</td>\n",
              "      <td>164.651067</td>\n",
              "      <td>-253.536852</td>\n",
              "      <td>7.861726</td>\n",
              "      <td>20.771766</td>\n",
              "      <td>64.554920</td>\n",
              "      <td>18.276642</td>\n",
              "      <td>-87.458977</td>\n",
              "      <td>-53.101199</td>\n",
              "      <td>73.524342</td>\n",
              "      <td>498.525097</td>\n",
              "      <td>63.009249</td>\n",
              "      <td>-26.447266</td>\n",
              "      <td>-238.813353</td>\n",
              "      <td>359.358358</td>\n",
              "      <td>71.078789</td>\n",
              "      <td>...</td>\n",
              "      <td>53.130559</td>\n",
              "      <td>23.247875</td>\n",
              "      <td>-102.396242</td>\n",
              "      <td>164.597209</td>\n",
              "      <td>17.635442</td>\n",
              "      <td>-48.789831</td>\n",
              "      <td>-157.662584</td>\n",
              "      <td>-373.138274</td>\n",
              "      <td>-501.978088</td>\n",
              "      <td>114.715854</td>\n",
              "      <td>721.773350</td>\n",
              "      <td>-41.615403</td>\n",
              "      <td>-73.534237</td>\n",
              "      <td>-246.111017</td>\n",
              "      <td>127.748801</td>\n",
              "      <td>282.491544</td>\n",
              "      <td>134.795973</td>\n",
              "      <td>133.154944</td>\n",
              "      <td>18.884542</td>\n",
              "      <td>274.297204</td>\n",
              "      <td>-221.445570</td>\n",
              "      <td>-44.342547</td>\n",
              "      <td>-13.889814</td>\n",
              "      <td>-109.751462</td>\n",
              "      <td>233.881825</td>\n",
              "      <td>-153.446303</td>\n",
              "      <td>78.380661</td>\n",
              "      <td>-61.583642</td>\n",
              "      <td>-10.273512</td>\n",
              "      <td>9.275184</td>\n",
              "      <td>-498.688734</td>\n",
              "      <td>-52.053109</td>\n",
              "      <td>-112.660269</td>\n",
              "      <td>42.346959</td>\n",
              "      <td>-15.023777</td>\n",
              "      <td>-162.510923</td>\n",
              "      <td>-35.469811</td>\n",
              "      <td>-51.957894</td>\n",
              "      <td>353.973430</td>\n",
              "      <td>36.174981</td>\n",
              "    </tr>\n",
              "    <tr>\n",
              "      <th>4</th>\n",
              "      <td>4.0</td>\n",
              "      <td>-14.428943</td>\n",
              "      <td>-88.702214</td>\n",
              "      <td>-90.949031</td>\n",
              "      <td>32.802493</td>\n",
              "      <td>-4.622240</td>\n",
              "      <td>-154.312595</td>\n",
              "      <td>131.270028</td>\n",
              "      <td>-12.524056</td>\n",
              "      <td>119.644296</td>\n",
              "      <td>24.632698</td>\n",
              "      <td>539.532158</td>\n",
              "      <td>-16.787959</td>\n",
              "      <td>20.061802</td>\n",
              "      <td>39.110959</td>\n",
              "      <td>-40.669987</td>\n",
              "      <td>-133.013243</td>\n",
              "      <td>78.306440</td>\n",
              "      <td>17.899180</td>\n",
              "      <td>-105.133154</td>\n",
              "      <td>7.334914</td>\n",
              "      <td>-95.532928</td>\n",
              "      <td>9.925823</td>\n",
              "      <td>19.846400</td>\n",
              "      <td>-84.646467</td>\n",
              "      <td>233.048472</td>\n",
              "      <td>-116.870658</td>\n",
              "      <td>55.917968</td>\n",
              "      <td>-58.948525</td>\n",
              "      <td>-19.012486</td>\n",
              "      <td>16.073353</td>\n",
              "      <td>46.746462</td>\n",
              "      <td>-175.241981</td>\n",
              "      <td>-43.758473</td>\n",
              "      <td>-177.634011</td>\n",
              "      <td>33.823636</td>\n",
              "      <td>36.977199</td>\n",
              "      <td>-158.763344</td>\n",
              "      <td>-407.531338</td>\n",
              "      <td>-92.800533</td>\n",
              "      <td>...</td>\n",
              "      <td>62.759983</td>\n",
              "      <td>40.164838</td>\n",
              "      <td>7.424752</td>\n",
              "      <td>77.624146</td>\n",
              "      <td>97.487541</td>\n",
              "      <td>-56.059635</td>\n",
              "      <td>-76.683799</td>\n",
              "      <td>-282.991898</td>\n",
              "      <td>69.152271</td>\n",
              "      <td>26.033244</td>\n",
              "      <td>547.477913</td>\n",
              "      <td>77.953327</td>\n",
              "      <td>93.329422</td>\n",
              "      <td>-475.393738</td>\n",
              "      <td>-85.712629</td>\n",
              "      <td>-439.373242</td>\n",
              "      <td>-181.084507</td>\n",
              "      <td>-411.097453</td>\n",
              "      <td>-42.991789</td>\n",
              "      <td>238.419544</td>\n",
              "      <td>-296.791812</td>\n",
              "      <td>13.932004</td>\n",
              "      <td>-6.086523</td>\n",
              "      <td>-27.644130</td>\n",
              "      <td>179.455915</td>\n",
              "      <td>-161.393684</td>\n",
              "      <td>72.600011</td>\n",
              "      <td>31.863142</td>\n",
              "      <td>-93.359427</td>\n",
              "      <td>-19.348692</td>\n",
              "      <td>-216.799930</td>\n",
              "      <td>-27.398390</td>\n",
              "      <td>34.357373</td>\n",
              "      <td>-59.637563</td>\n",
              "      <td>7.878538</td>\n",
              "      <td>-32.631681</td>\n",
              "      <td>-83.672005</td>\n",
              "      <td>9.064510</td>\n",
              "      <td>252.167868</td>\n",
              "      <td>96.918271</td>\n",
              "    </tr>\n",
              "  </tbody>\n",
              "</table>\n",
              "<p>5 rows × 111 columns</p>\n",
              "</div>"
            ],
            "text/plain": [
              "    id          0           1  ...        107         108         109\n",
              "0  0.0  70.988329  -53.726764  ...  57.155667  349.346501 -143.966616\n",
              "1  1.0 -99.136105   47.856013  ...  29.497996 -226.758252  -77.972184\n",
              "2  2.0 -98.412507   95.380702  ... -59.906696  264.088705  -22.603129\n",
              "3  3.0  21.493182  170.821211  ... -51.957894  353.973430   36.174981\n",
              "4  4.0 -14.428943  -88.702214  ...   9.064510  252.167868   96.918271\n",
              "\n",
              "[5 rows x 111 columns]"
            ]
          },
          "metadata": {},
          "execution_count": 12
        }
      ]
    },
    {
      "cell_type": "code",
      "metadata": {
        "id": "e32SUse8xnOP"
      },
      "source": [
        ""
      ],
      "execution_count": null,
      "outputs": []
    },
    {
      "cell_type": "code",
      "metadata": {
        "id": "HR46aAH09lbF"
      },
      "source": [
        "#Нормализация данных \n",
        "\n",
        "scaler = StandardScaler()\n",
        "X = scaler.fit_transform(X)\n",
        "scaler1 = StandardScaler()\n",
        "test = scaler1.fit_transform(test)\n",
        "X = pd.DataFrame(X)\n",
        "test = pd.DataFrame(test)\n"
      ],
      "execution_count": 13,
      "outputs": []
    },
    {
      "cell_type": "code",
      "metadata": {
        "id": "kdO-9RDp2ObZ"
      },
      "source": [
        "#Разделение данных на tran/test выборки\n",
        "X_train, X_test, y_train, y_test = train_test_split(X, y, test_size=0.2, random_state=42)"
      ],
      "execution_count": 44,
      "outputs": []
    },
    {
      "cell_type": "code",
      "metadata": {
        "id": "t3xR40jk9S7G"
      },
      "source": [
        "#KNN (N=5)\n",
        "knn = KNeighborsClassifier(n_neighbors=5, n_jobs=-1)\n",
        "knn.fit(X_train, y_train)"
      ],
      "execution_count": null,
      "outputs": []
    },
    {
      "cell_type": "code",
      "metadata": {
        "id": "QhrmPwODMKen"
      },
      "source": [
        "pred = knn.predict(X_test)"
      ],
      "execution_count": null,
      "outputs": []
    },
    {
      "cell_type": "code",
      "metadata": {
        "colab": {
          "base_uri": "https://localhost:8080/"
        },
        "id": "dMkGlXdCMXHI",
        "outputId": "e0a37ad4-140e-4156-801a-1e54f6568e34"
      },
      "source": [
        "accuracy_score(y_test, pred)"
      ],
      "execution_count": null,
      "outputs": [
        {
          "output_type": "execute_result",
          "data": {
            "text/plain": [
              "0.8678"
            ]
          },
          "metadata": {},
          "execution_count": 37
        }
      ]
    },
    {
      "cell_type": "code",
      "metadata": {
        "id": "DLeNeij5NBEu"
      },
      "source": [
        "#DecisionTree\n",
        "from sklearn.tree import DecisionTreeClassifier\n",
        "dtree = DecisionTreeClassifier(random_state=123)\n",
        "dtree.fit(X_train, y_train)"
      ],
      "execution_count": null,
      "outputs": []
    },
    {
      "cell_type": "code",
      "metadata": {
        "id": "Wfpa-hdbOaH6"
      },
      "source": [
        "pred = dtree.predict(X_test)"
      ],
      "execution_count": null,
      "outputs": []
    },
    {
      "cell_type": "code",
      "metadata": {
        "colab": {
          "base_uri": "https://localhost:8080/"
        },
        "id": "D5PZH-fsOm8J",
        "outputId": "17459864-a17a-4dca-f4f3-e25b166049ce"
      },
      "source": [
        "accuracy_score(y_test, pred)"
      ],
      "execution_count": null,
      "outputs": [
        {
          "output_type": "execute_result",
          "data": {
            "text/plain": [
              "0.7897"
            ]
          },
          "metadata": {},
          "execution_count": 40
        }
      ]
    },
    {
      "cell_type": "code",
      "metadata": {
        "id": "pga21mGjOsaM"
      },
      "source": [
        "#LogisticRegression\n",
        "from sklearn.linear_model import LogisticRegression\n",
        "lr = LogisticRegression(n_jobs=-1)\n",
        "lr.fit(X_train, y_train)"
      ],
      "execution_count": null,
      "outputs": []
    },
    {
      "cell_type": "code",
      "metadata": {
        "colab": {
          "base_uri": "https://localhost:8080/"
        },
        "id": "QSmJyBdBPwUy",
        "outputId": "31adbf43-a2b3-4aaf-d55f-3c0882391ebe"
      },
      "source": [
        "lr.score(X_test, y_test)"
      ],
      "execution_count": null,
      "outputs": [
        {
          "output_type": "execute_result",
          "data": {
            "text/plain": [
              "0.674"
            ]
          },
          "metadata": {},
          "execution_count": 42
        }
      ]
    },
    {
      "cell_type": "code",
      "metadata": {
        "id": "vDlqmyiCQD9S"
      },
      "source": [
        "pred = lr.predict(X_test)"
      ],
      "execution_count": null,
      "outputs": []
    },
    {
      "cell_type": "code",
      "metadata": {
        "colab": {
          "base_uri": "https://localhost:8080/"
        },
        "id": "K8EmNVVPQJLj",
        "outputId": "a1ad29a1-28ed-45c4-a549-613322a7d238"
      },
      "source": [
        "accuracy_score(y_test, pred)"
      ],
      "execution_count": null,
      "outputs": [
        {
          "output_type": "execute_result",
          "data": {
            "text/plain": [
              "0.674"
            ]
          },
          "metadata": {},
          "execution_count": 44
        }
      ]
    },
    {
      "cell_type": "code",
      "metadata": {
        "id": "XxT8sLs8QMcf"
      },
      "source": [
        "#GridSearch fo LogisticRegression\n",
        "from sklearn.model_selection import GridSearchCV\n",
        "model = LogisticRegression(n_jobs=-1)\n",
        "grid = {'penalty': ['l1', 'l2', 'elasticnet'],\n",
        "        'C': [0.01, 0.1, 1, 10, 100]}\n",
        "search = GridSearchCV(estimator=model, param_grid=grid, n_jobs=-1, scoring='accuracy', cv=5, refit=True)\n",
        "search.fit(X_train, y_train)"
      ],
      "execution_count": null,
      "outputs": []
    },
    {
      "cell_type": "code",
      "metadata": {
        "colab": {
          "base_uri": "https://localhost:8080/"
        },
        "id": "9_xOZ6WYRG6Q",
        "outputId": "4eba7290-8f4e-45ea-d282-80d73876dd74"
      },
      "source": [
        "search.best_params_"
      ],
      "execution_count": null,
      "outputs": [
        {
          "output_type": "execute_result",
          "data": {
            "text/plain": [
              "{'C': 10, 'penalty': 'l2'}"
            ]
          },
          "metadata": {},
          "execution_count": 46
        }
      ]
    },
    {
      "cell_type": "code",
      "metadata": {
        "colab": {
          "base_uri": "https://localhost:8080/"
        },
        "id": "Gef-jsSBRYe9",
        "outputId": "2b30b6b4-51c8-4317-bb7b-24c7ab8ae915"
      },
      "source": [
        "pred = search.predict(X_test)\n",
        "accuracy_score(y_test, pred)"
      ],
      "execution_count": null,
      "outputs": [
        {
          "output_type": "execute_result",
          "data": {
            "text/plain": [
              "0.6766"
            ]
          },
          "metadata": {},
          "execution_count": 47
        }
      ]
    },
    {
      "cell_type": "code",
      "metadata": {
        "id": "XhkV3CxpY7dQ"
      },
      "source": [
        "#GridSearch for KNN\n",
        "model = KNeighborsClassifier(n_jobs=-1)\n",
        "grid = {'n_neighbors': [3,5,6,7,9],\n",
        "        'algorithm': ['kd_tree, ball_tree', 'brute']}\n",
        "search = GridSearchCV(estimator=model, param_grid=grid, n_jobs=-1, scoring='accuracy', cv=5, refit=True)\n",
        "search.fit(X_train, y_train)"
      ],
      "execution_count": null,
      "outputs": []
    },
    {
      "cell_type": "code",
      "metadata": {
        "colab": {
          "base_uri": "https://localhost:8080/"
        },
        "id": "1_aMWfuTaQgc",
        "outputId": "3099d9b1-7999-4fb5-dff3-8af66d6ea664"
      },
      "source": [
        "search.best_params_"
      ],
      "execution_count": null,
      "outputs": [
        {
          "output_type": "execute_result",
          "data": {
            "text/plain": [
              "{'algorithm': 'brute', 'n_neighbors': 6}"
            ]
          },
          "metadata": {},
          "execution_count": 138
        }
      ]
    },
    {
      "cell_type": "code",
      "metadata": {
        "colab": {
          "base_uri": "https://localhost:8080/"
        },
        "id": "-qxJ6Lf2Y7Z0",
        "outputId": "d4dca776-182f-4426-8683-bdb312409af7"
      },
      "source": [
        "pred = search.predict(X_test)\n",
        "accuracy_score(y_test, pred)"
      ],
      "execution_count": null,
      "outputs": [
        {
          "output_type": "execute_result",
          "data": {
            "text/plain": [
              "0.7208"
            ]
          },
          "metadata": {},
          "execution_count": 139
        }
      ]
    },
    {
      "cell_type": "code",
      "metadata": {
        "colab": {
          "base_uri": "https://localhost:8080/"
        },
        "id": "j0hSwM2tdAv2",
        "outputId": "d7436046-de40-4a8a-b2a6-93e1b7078cf8"
      },
      "source": [
        "#XGBoostClassifier\n",
        "from xgboost import XGBClassifier\n",
        "xgb = XGBClassifier(n_estimator=250, n_jobs=-1, random_state=42)\n",
        "xgb.fit(X_train, y_train)"
      ],
      "execution_count": null,
      "outputs": [
        {
          "output_type": "execute_result",
          "data": {
            "text/plain": [
              "XGBClassifier(base_score=0.5, booster='gbtree', colsample_bylevel=1,\n",
              "              colsample_bynode=1, colsample_bytree=1, gamma=0,\n",
              "              learning_rate=0.1, max_delta_step=0, max_depth=3,\n",
              "              min_child_weight=1, missing=None, n_estimator=250,\n",
              "              n_estimators=100, n_jobs=-1, nthread=None,\n",
              "              objective='multi:softprob', random_state=42, reg_alpha=0,\n",
              "              reg_lambda=1, scale_pos_weight=1, seed=None, silent=None,\n",
              "              subsample=1, verbosity=1)"
            ]
          },
          "metadata": {},
          "execution_count": 144
        }
      ]
    },
    {
      "cell_type": "code",
      "metadata": {
        "colab": {
          "base_uri": "https://localhost:8080/"
        },
        "id": "_h3F2hIvdAnu",
        "outputId": "fc6bc972-8240-4003-cb39-24899849e1ae"
      },
      "source": [
        "prediction = xgb.predict(X_test)\n",
        "accuracy_score(y_test, pred)"
      ],
      "execution_count": null,
      "outputs": [
        {
          "output_type": "execute_result",
          "data": {
            "text/plain": [
              "0.9218"
            ]
          },
          "metadata": {},
          "execution_count": 145
        }
      ]
    },
    {
      "cell_type": "code",
      "metadata": {
        "colab": {
          "base_uri": "https://localhost:8080/"
        },
        "id": "e78-gAk67ZGI",
        "outputId": "6b09817e-53dd-4117-ac79-3f76d3f9bf55"
      },
      "source": [
        "xgb = XGBClassifier(n_estimators=450, n_jobs=-1, random_state=42)\n",
        "xgb.fit(X_train, y_train)"
      ],
      "execution_count": null,
      "outputs": [
        {
          "output_type": "execute_result",
          "data": {
            "text/plain": [
              "XGBClassifier(base_score=0.5, booster='gbtree', colsample_bylevel=1,\n",
              "              colsample_bynode=1, colsample_bytree=1, gamma=0,\n",
              "              learning_rate=0.1, max_delta_step=0, max_depth=3,\n",
              "              min_child_weight=1, missing=None, n_estimators=450, n_jobs=-1,\n",
              "              nthread=None, objective='multi:softprob', random_state=42,\n",
              "              reg_alpha=0, reg_lambda=1, scale_pos_weight=1, seed=None,\n",
              "              silent=None, subsample=1, verbosity=1)"
            ]
          },
          "metadata": {},
          "execution_count": 161
        }
      ]
    },
    {
      "cell_type": "code",
      "metadata": {
        "colab": {
          "base_uri": "https://localhost:8080/"
        },
        "id": "-4u-MXe4DRg9",
        "outputId": "39f0b1ce-9912-49d5-cefe-c60acfd8ca21"
      },
      "source": [
        "pred = xgb.predict(X_test)\n",
        "accuracy_score(y_test,pred)"
      ],
      "execution_count": null,
      "outputs": [
        {
          "output_type": "execute_result",
          "data": {
            "text/plain": [
              "0.9001"
            ]
          },
          "metadata": {},
          "execution_count": 163
        }
      ]
    },
    {
      "cell_type": "code",
      "metadata": {
        "id": "_a2gOmaSDRbi"
      },
      "source": [
        ""
      ],
      "execution_count": null,
      "outputs": []
    },
    {
      "cell_type": "code",
      "metadata": {
        "colab": {
          "base_uri": "https://localhost:8080/"
        },
        "id": "8TIwKygfkvDj",
        "outputId": "e034d216-1216-4555-a757-8546c95aad88"
      },
      "source": [
        "#LightGBMClassifier\n",
        "from lightgbm import LGBMClassifier\n",
        "lgbm = LGBMClassifier(n_estimators=200, n_jobs=-1)\n",
        "lgbm.fit(X_train, y_train)"
      ],
      "execution_count": null,
      "outputs": [
        {
          "output_type": "execute_result",
          "data": {
            "text/plain": [
              "LGBMClassifier(boosting_type='gbdt', class_weight=None, colsample_bytree=1.0,\n",
              "               importance_type='split', learning_rate=0.1, max_depth=-1,\n",
              "               min_child_samples=20, min_child_weight=0.001, min_split_gain=0.0,\n",
              "               n_estimators=200, n_jobs=-1, num_leaves=31, objective=None,\n",
              "               random_state=None, reg_alpha=0.0, reg_lambda=0.0, silent=True,\n",
              "               subsample=1.0, subsample_for_bin=200000, subsample_freq=0)"
            ]
          },
          "metadata": {},
          "execution_count": 149
        }
      ]
    },
    {
      "cell_type": "code",
      "metadata": {
        "colab": {
          "base_uri": "https://localhost:8080/"
        },
        "id": "XC_rqiGclYxQ",
        "outputId": "35fb6743-22e3-410b-cc44-34599d59c57b"
      },
      "source": [
        "pred = lgbm.predict(X_test)\n",
        "accuracy_score(y_test, pred)"
      ],
      "execution_count": null,
      "outputs": [
        {
          "output_type": "execute_result",
          "data": {
            "text/plain": [
              "0.9378"
            ]
          },
          "metadata": {},
          "execution_count": 150
        }
      ]
    },
    {
      "cell_type": "code",
      "metadata": {
        "colab": {
          "base_uri": "https://localhost:8080/"
        },
        "id": "RowXFSuvu-LO",
        "outputId": "871879bb-1765-4578-c669-4c384fdba274"
      },
      "source": [
        "#GridSearch fot LightGBMClassifier\n",
        "from lightgbm import LGBMClassifier\n",
        "model = LGBMClassifier(n_jobs=-1)\n",
        "grid = {'n_estimators': [350, 450, 550, 650, 900]}\n",
        "search = GridSearchCV(estimator=model, param_grid=grid, n_jobs=-1, scoring='accuracy', cv=5, refit=True)\n",
        "search.fit(X_train, y_train)"
      ],
      "execution_count": 18,
      "outputs": [
        {
          "output_type": "execute_result",
          "data": {
            "text/plain": [
              "GridSearchCV(cv=5, estimator=LGBMClassifier(), n_jobs=-1,\n",
              "             param_grid={'n_estimators': [350, 450, 550, 650, 900]},\n",
              "             scoring='accuracy')"
            ]
          },
          "metadata": {},
          "execution_count": 18
        }
      ]
    },
    {
      "cell_type": "code",
      "metadata": {
        "colab": {
          "base_uri": "https://localhost:8080/"
        },
        "id": "M1zweA_QrXvO",
        "outputId": "6fb7886c-fe55-40f1-b6af-2f6776af72a8"
      },
      "source": [
        "search.best_params_"
      ],
      "execution_count": 20,
      "outputs": [
        {
          "output_type": "execute_result",
          "data": {
            "text/plain": [
              "{'n_estimators': 900}"
            ]
          },
          "metadata": {},
          "execution_count": 20
        }
      ]
    },
    {
      "cell_type": "code",
      "metadata": {
        "colab": {
          "base_uri": "https://localhost:8080/"
        },
        "id": "zR-drjKWrXll",
        "outputId": "b2adc173-a069-4a91-f1b6-4a1540c512fd"
      },
      "source": [
        "pred = search.predict(X_test)\n",
        "accuracy_score(y_test, pred)"
      ],
      "execution_count": 21,
      "outputs": [
        {
          "output_type": "execute_result",
          "data": {
            "text/plain": [
              "0.9531"
            ]
          },
          "metadata": {},
          "execution_count": 21
        }
      ]
    },
    {
      "cell_type": "code",
      "metadata": {
        "colab": {
          "base_uri": "https://localhost:8080/"
        },
        "id": "NAteh2K6CBq0",
        "outputId": "fddab947-262e-4ebf-ecff-ec8d9f6e26f0"
      },
      "source": [
        "#LightGBM (n_estimators=900)\n",
        "from lightgbm import LGBMClassifier\n",
        "lgbm = LGBMClassifier(n_estimators=900, n_jobs=-1)\n",
        "lgbm.fit(X_train,y_train)"
      ],
      "execution_count": 23,
      "outputs": [
        {
          "output_type": "execute_result",
          "data": {
            "text/plain": [
              "LGBMClassifier(n_estimators=900)"
            ]
          },
          "metadata": {},
          "execution_count": 23
        }
      ]
    },
    {
      "cell_type": "code",
      "metadata": {
        "id": "EygeP-iEu-Bd",
        "colab": {
          "base_uri": "https://localhost:8080/"
        },
        "outputId": "c9aeb7dc-e08c-4f81-c834-73cbca8f7425"
      },
      "source": [
        "pred = lgbm.predict(X_test)\n",
        "accuracy_score(y_test, pred)"
      ],
      "execution_count": 24,
      "outputs": [
        {
          "output_type": "execute_result",
          "data": {
            "text/plain": [
              "0.9574"
            ]
          },
          "metadata": {},
          "execution_count": 24
        }
      ]
    },
    {
      "cell_type": "code",
      "metadata": {
        "colab": {
          "base_uri": "https://localhost:8080/"
        },
        "id": "gdcJa436rsMS",
        "outputId": "38351e9d-53ae-429b-82ac-185904e5095e"
      },
      "source": [
        "#Xgboost (n_estimators=1000)\n",
        "from xgboost import XGBClassifier\n",
        "xgb = XGBClassifier(n_estimator=1000, n_jobs=-1, random_state=42)\n",
        "xgb.fit(X_train, y_train)"
      ],
      "execution_count": 31,
      "outputs": [
        {
          "output_type": "execute_result",
          "data": {
            "text/plain": [
              "XGBClassifier(n_estimator=1000, n_jobs=-1, objective='multi:softprob',\n",
              "              random_state=42)"
            ]
          },
          "metadata": {},
          "execution_count": 31
        }
      ]
    },
    {
      "cell_type": "code",
      "metadata": {
        "colab": {
          "base_uri": "https://localhost:8080/"
        },
        "id": "Ebp2Wd5urr5L",
        "outputId": "b36dde8e-e1ac-4bcb-a53c-199c932afe94"
      },
      "source": [
        "pred = xgb.predict(X_test)\n",
        "accuracy_score(y_test, pred)"
      ],
      "execution_count": 32,
      "outputs": [
        {
          "output_type": "execute_result",
          "data": {
            "text/plain": [
              "0.8098"
            ]
          },
          "metadata": {},
          "execution_count": 32
        }
      ]
    },
    {
      "cell_type": "code",
      "metadata": {
        "id": "-OFM7VGSBUSi"
      },
      "source": [
        ""
      ],
      "execution_count": null,
      "outputs": []
    },
    {
      "cell_type": "code",
      "metadata": {
        "id": "-k1N0TvjRf69"
      },
      "source": [
        "#Make submission\n",
        "sub = lgbm.predict(test)"
      ],
      "execution_count": 25,
      "outputs": []
    },
    {
      "cell_type": "code",
      "metadata": {
        "colab": {
          "base_uri": "https://localhost:8080/"
        },
        "id": "yH_grv5aTFEj",
        "outputId": "7a878976-bd95-43a5-82ea-3250d3b4cd91"
      },
      "source": [
        "print(sub.shape)"
      ],
      "execution_count": 23,
      "outputs": [
        {
          "output_type": "stream",
          "name": "stdout",
          "text": [
            "(10000,)\n"
          ]
        }
      ]
    },
    {
      "cell_type": "code",
      "metadata": {
        "colab": {
          "base_uri": "https://localhost:8080/",
          "height": 206
        },
        "id": "HCoWSwYKSx5Q",
        "outputId": "92017dca-952e-4b22-c2b6-80049e7d2197"
      },
      "source": [
        "submission = pd.DataFrame(sub)\n",
        "#submission = pd.DataFrame(submission, columns=['label'])\n",
        "#print(type(submission.iloc[:,:5]))\n",
        "submission.head()"
      ],
      "execution_count": 26,
      "outputs": [
        {
          "output_type": "execute_result",
          "data": {
            "text/html": [
              "<div>\n",
              "<style scoped>\n",
              "    .dataframe tbody tr th:only-of-type {\n",
              "        vertical-align: middle;\n",
              "    }\n",
              "\n",
              "    .dataframe tbody tr th {\n",
              "        vertical-align: top;\n",
              "    }\n",
              "\n",
              "    .dataframe thead th {\n",
              "        text-align: right;\n",
              "    }\n",
              "</style>\n",
              "<table border=\"1\" class=\"dataframe\">\n",
              "  <thead>\n",
              "    <tr style=\"text-align: right;\">\n",
              "      <th></th>\n",
              "      <th>0</th>\n",
              "    </tr>\n",
              "  </thead>\n",
              "  <tbody>\n",
              "    <tr>\n",
              "      <th>0</th>\n",
              "      <td>5</td>\n",
              "    </tr>\n",
              "    <tr>\n",
              "      <th>1</th>\n",
              "      <td>8</td>\n",
              "    </tr>\n",
              "    <tr>\n",
              "      <th>2</th>\n",
              "      <td>4</td>\n",
              "    </tr>\n",
              "    <tr>\n",
              "      <th>3</th>\n",
              "      <td>5</td>\n",
              "    </tr>\n",
              "    <tr>\n",
              "      <th>4</th>\n",
              "      <td>0</td>\n",
              "    </tr>\n",
              "  </tbody>\n",
              "</table>\n",
              "</div>"
            ],
            "text/plain": [
              "   0\n",
              "0  5\n",
              "1  8\n",
              "2  4\n",
              "3  5\n",
              "4  0"
            ]
          },
          "metadata": {},
          "execution_count": 26
        }
      ]
    },
    {
      "cell_type": "code",
      "metadata": {
        "colab": {
          "base_uri": "https://localhost:8080/",
          "height": 224
        },
        "id": "wV2yZ4giS4Mu",
        "outputId": "e189f23a-52a7-4ff1-9879-e8af74c10770"
      },
      "source": [
        "sample_sabmission = pd.read_csv('sample_sabmission.csv')\n",
        "print(sample_sabmission.shape)\n",
        "sample_sabmission.head()"
      ],
      "execution_count": 27,
      "outputs": [
        {
          "output_type": "stream",
          "name": "stdout",
          "text": [
            "(10000, 2)\n"
          ]
        },
        {
          "output_type": "execute_result",
          "data": {
            "text/html": [
              "<div>\n",
              "<style scoped>\n",
              "    .dataframe tbody tr th:only-of-type {\n",
              "        vertical-align: middle;\n",
              "    }\n",
              "\n",
              "    .dataframe tbody tr th {\n",
              "        vertical-align: top;\n",
              "    }\n",
              "\n",
              "    .dataframe thead th {\n",
              "        text-align: right;\n",
              "    }\n",
              "</style>\n",
              "<table border=\"1\" class=\"dataframe\">\n",
              "  <thead>\n",
              "    <tr style=\"text-align: right;\">\n",
              "      <th></th>\n",
              "      <th>id</th>\n",
              "      <th>label</th>\n",
              "    </tr>\n",
              "  </thead>\n",
              "  <tbody>\n",
              "    <tr>\n",
              "      <th>0</th>\n",
              "      <td>0</td>\n",
              "      <td>0</td>\n",
              "    </tr>\n",
              "    <tr>\n",
              "      <th>1</th>\n",
              "      <td>1</td>\n",
              "      <td>0</td>\n",
              "    </tr>\n",
              "    <tr>\n",
              "      <th>2</th>\n",
              "      <td>2</td>\n",
              "      <td>0</td>\n",
              "    </tr>\n",
              "    <tr>\n",
              "      <th>3</th>\n",
              "      <td>3</td>\n",
              "      <td>0</td>\n",
              "    </tr>\n",
              "    <tr>\n",
              "      <th>4</th>\n",
              "      <td>4</td>\n",
              "      <td>0</td>\n",
              "    </tr>\n",
              "  </tbody>\n",
              "</table>\n",
              "</div>"
            ],
            "text/plain": [
              "   id  label\n",
              "0   0      0\n",
              "1   1      0\n",
              "2   2      0\n",
              "3   3      0\n",
              "4   4      0"
            ]
          },
          "metadata": {},
          "execution_count": 27
        }
      ]
    },
    {
      "cell_type": "code",
      "metadata": {
        "colab": {
          "base_uri": "https://localhost:8080/",
          "height": 206
        },
        "id": "rP1aCaXMULg6",
        "outputId": "9a10cd9e-db6d-4a6d-d8aa-3bac8e2d768b"
      },
      "source": [
        "sample_sabmission['label'] = submission\n",
        "sample_sabmission.head()"
      ],
      "execution_count": 28,
      "outputs": [
        {
          "output_type": "execute_result",
          "data": {
            "text/html": [
              "<div>\n",
              "<style scoped>\n",
              "    .dataframe tbody tr th:only-of-type {\n",
              "        vertical-align: middle;\n",
              "    }\n",
              "\n",
              "    .dataframe tbody tr th {\n",
              "        vertical-align: top;\n",
              "    }\n",
              "\n",
              "    .dataframe thead th {\n",
              "        text-align: right;\n",
              "    }\n",
              "</style>\n",
              "<table border=\"1\" class=\"dataframe\">\n",
              "  <thead>\n",
              "    <tr style=\"text-align: right;\">\n",
              "      <th></th>\n",
              "      <th>id</th>\n",
              "      <th>label</th>\n",
              "    </tr>\n",
              "  </thead>\n",
              "  <tbody>\n",
              "    <tr>\n",
              "      <th>0</th>\n",
              "      <td>0</td>\n",
              "      <td>5</td>\n",
              "    </tr>\n",
              "    <tr>\n",
              "      <th>1</th>\n",
              "      <td>1</td>\n",
              "      <td>8</td>\n",
              "    </tr>\n",
              "    <tr>\n",
              "      <th>2</th>\n",
              "      <td>2</td>\n",
              "      <td>4</td>\n",
              "    </tr>\n",
              "    <tr>\n",
              "      <th>3</th>\n",
              "      <td>3</td>\n",
              "      <td>5</td>\n",
              "    </tr>\n",
              "    <tr>\n",
              "      <th>4</th>\n",
              "      <td>4</td>\n",
              "      <td>0</td>\n",
              "    </tr>\n",
              "  </tbody>\n",
              "</table>\n",
              "</div>"
            ],
            "text/plain": [
              "   id  label\n",
              "0   0      5\n",
              "1   1      8\n",
              "2   2      4\n",
              "3   3      5\n",
              "4   4      0"
            ]
          },
          "metadata": {},
          "execution_count": 28
        }
      ]
    },
    {
      "cell_type": "code",
      "metadata": {
        "id": "zHdW-OTnUd3e"
      },
      "source": [
        "sample_sabmission.to_csv('lgbm_900.csv', index=False) "
      ],
      "execution_count": 29,
      "outputs": []
    },
    {
      "cell_type": "code",
      "metadata": {
        "id": "avdrqC3MU0su"
      },
      "source": [
        ""
      ],
      "execution_count": null,
      "outputs": []
    }
  ]
}